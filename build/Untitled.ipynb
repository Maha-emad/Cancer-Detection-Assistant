{
 "cells": [
  {
   "cell_type": "code",
   "execution_count": 4,
   "id": "15f25539",
   "metadata": {
    "scrolled": true
   },
   "outputs": [],
   "source": [
    "%run dr_pass_update.py"
   ]
  },
  {
   "cell_type": "code",
   "execution_count": 10,
   "id": "049f2da2",
   "metadata": {},
   "outputs": [],
   "source": [
    "%run patients.py"
   ]
  },
  {
   "cell_type": "code",
   "execution_count": 3,
   "id": "4099eae7",
   "metadata": {},
   "outputs": [
    {
     "name": "stderr",
     "output_type": "stream",
     "text": [
      "WARNING: Ignoring invalid distribution -orch (d:\\anaconda\\anaconda_copy\\lib\\site-packages)\n",
      "WARNING: Ignoring invalid distribution -illow (d:\\anaconda\\anaconda_copy\\lib\\site-packages)\n",
      "WARNING: Ignoring invalid distribution -orch (d:\\anaconda\\anaconda_copy\\lib\\site-packages)\n",
      "WARNING: Ignoring invalid distribution -illow (d:\\anaconda\\anaconda_copy\\lib\\site-packages)\n",
      "ERROR: Could not find a version that satisfies the requirement textwrap (from versions: none)\n",
      "ERROR: No matching distribution found for textwrap\n",
      "WARNING: Ignoring invalid distribution -orch (d:\\anaconda\\anaconda_copy\\lib\\site-packages)\n",
      "WARNING: Ignoring invalid distribution -illow (d:\\anaconda\\anaconda_copy\\lib\\site-packages)\n",
      "WARNING: Ignoring invalid distribution -orch (d:\\anaconda\\anaconda_copy\\lib\\site-packages)\n",
      "WARNING: Ignoring invalid distribution -illow (d:\\anaconda\\anaconda_copy\\lib\\site-packages)\n",
      "WARNING: Ignoring invalid distribution -orch (d:\\anaconda\\anaconda_copy\\lib\\site-packages)\n",
      "WARNING: Ignoring invalid distribution -illow (d:\\anaconda\\anaconda_copy\\lib\\site-packages)\n"
     ]
    }
   ],
   "source": [
    "!pip install textwrap "
   ]
  },
  {
   "cell_type": "code",
   "execution_count": 5,
   "id": "7f3b0152",
   "metadata": {},
   "outputs": [
    {
     "name": "stdout",
     "output_type": "stream",
     "text": [
      "Collecting aspose-pdf\n",
      "  Using cached aspose_pdf-23.5.0-py3-none-win_amd64.whl (81.5 MB)\n",
      "Installing collected packages: aspose-pdf\n",
      "Successfully installed aspose-pdf-23.5.0\n"
     ]
    },
    {
     "name": "stderr",
     "output_type": "stream",
     "text": [
      "WARNING: Ignoring invalid distribution -orch (d:\\anaconda\\anaconda_copy\\lib\\site-packages)\n",
      "WARNING: Ignoring invalid distribution -illow (d:\\anaconda\\anaconda_copy\\lib\\site-packages)\n",
      "WARNING: Ignoring invalid distribution -orch (d:\\anaconda\\anaconda_copy\\lib\\site-packages)\n",
      "WARNING: Ignoring invalid distribution -illow (d:\\anaconda\\anaconda_copy\\lib\\site-packages)\n",
      "WARNING: Ignoring invalid distribution -orch (d:\\anaconda\\anaconda_copy\\lib\\site-packages)\n",
      "WARNING: Ignoring invalid distribution -illow (d:\\anaconda\\anaconda_copy\\lib\\site-packages)\n",
      "WARNING: Ignoring invalid distribution -orch (d:\\anaconda\\anaconda_copy\\lib\\site-packages)\n",
      "WARNING: Ignoring invalid distribution -illow (d:\\anaconda\\anaconda_copy\\lib\\site-packages)\n",
      "WARNING: Ignoring invalid distribution -orch (d:\\anaconda\\anaconda_copy\\lib\\site-packages)\n",
      "WARNING: Ignoring invalid distribution -illow (d:\\anaconda\\anaconda_copy\\lib\\site-packages)\n",
      "WARNING: Ignoring invalid distribution -orch (d:\\anaconda\\anaconda_copy\\lib\\site-packages)\n",
      "WARNING: Ignoring invalid distribution -illow (d:\\anaconda\\anaconda_copy\\lib\\site-packages)\n",
      "WARNING: Ignoring invalid distribution -orch (d:\\anaconda\\anaconda_copy\\lib\\site-packages)\n",
      "WARNING: Ignoring invalid distribution -illow (d:\\anaconda\\anaconda_copy\\lib\\site-packages)\n"
     ]
    }
   ],
   "source": [
    "!pip install aspose-pdf"
   ]
  },
  {
   "cell_type": "code",
   "execution_count": null,
   "id": "a56e98e8",
   "metadata": {},
   "outputs": [],
   "source": []
  }
 ],
 "metadata": {
  "kernelspec": {
   "display_name": "Python 3 (ipykernel)",
   "language": "python",
   "name": "python3"
  },
  "language_info": {
   "codemirror_mode": {
    "name": "ipython",
    "version": 3
   },
   "file_extension": ".py",
   "mimetype": "text/x-python",
   "name": "python",
   "nbconvert_exporter": "python",
   "pygments_lexer": "ipython3",
   "version": "3.10.9"
  }
 },
 "nbformat": 4,
 "nbformat_minor": 5
}
